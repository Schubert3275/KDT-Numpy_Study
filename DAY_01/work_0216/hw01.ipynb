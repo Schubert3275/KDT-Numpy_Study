{
 "cells": [
  {
   "cell_type": "code",
   "execution_count": 2,
   "metadata": {},
   "outputs": [],
   "source": [
    "import pandas as pd\n",
    "import numpy as np\n",
    "import matplotlib.pyplot as plt\n",
    "import koreanize_matplotlib\n"
   ]
  },
  {
   "cell_type": "code",
   "execution_count": 3,
   "metadata": {},
   "outputs": [],
   "source": [
    "file = \"./서울특별시_지하철 호선별 역별 승하차 인원 정보_202312.csv\"\n"
   ]
  },
  {
   "cell_type": "code",
   "execution_count": 4,
   "metadata": {},
   "outputs": [],
   "source": [
    "with open(file, \"r\", encoding=\"utf-8-sig\") as f:\n",
    "    title = f.readline()\n"
   ]
  },
  {
   "cell_type": "code",
   "execution_count": 5,
   "metadata": {},
   "outputs": [
    {
     "data": {
      "text/html": [
       "<div>\n",
       "<style scoped>\n",
       "    .dataframe tbody tr th:only-of-type {\n",
       "        vertical-align: middle;\n",
       "    }\n",
       "\n",
       "    .dataframe tbody tr th {\n",
       "        vertical-align: top;\n",
       "    }\n",
       "\n",
       "    .dataframe thead th {\n",
       "        text-align: right;\n",
       "    }\n",
       "</style>\n",
       "<table border=\"1\" class=\"dataframe\">\n",
       "  <thead>\n",
       "    <tr style=\"text-align: right;\">\n",
       "      <th></th>\n",
       "      <th>사용일자</th>\n",
       "      <th>노선명</th>\n",
       "      <th>역명</th>\n",
       "      <th>승차총승객수</th>\n",
       "    </tr>\n",
       "  </thead>\n",
       "  <tbody>\n",
       "    <tr>\n",
       "      <th>0</th>\n",
       "      <td>20231201</td>\n",
       "      <td>2호선</td>\n",
       "      <td>대림(구로구청)</td>\n",
       "      <td>25995</td>\n",
       "    </tr>\n",
       "    <tr>\n",
       "      <th>1</th>\n",
       "      <td>20231201</td>\n",
       "      <td>2호선</td>\n",
       "      <td>신도림</td>\n",
       "      <td>55447</td>\n",
       "    </tr>\n",
       "    <tr>\n",
       "      <th>2</th>\n",
       "      <td>20231201</td>\n",
       "      <td>2호선</td>\n",
       "      <td>문래</td>\n",
       "      <td>25818</td>\n",
       "    </tr>\n",
       "    <tr>\n",
       "      <th>3</th>\n",
       "      <td>20231201</td>\n",
       "      <td>2호선</td>\n",
       "      <td>영등포구청</td>\n",
       "      <td>24517</td>\n",
       "    </tr>\n",
       "    <tr>\n",
       "      <th>4</th>\n",
       "      <td>20231201</td>\n",
       "      <td>2호선</td>\n",
       "      <td>당산</td>\n",
       "      <td>20266</td>\n",
       "    </tr>\n",
       "    <tr>\n",
       "      <th>...</th>\n",
       "      <td>...</td>\n",
       "      <td>...</td>\n",
       "      <td>...</td>\n",
       "      <td>...</td>\n",
       "    </tr>\n",
       "    <tr>\n",
       "      <th>18951</th>\n",
       "      <td>20231231</td>\n",
       "      <td>중앙선</td>\n",
       "      <td>중랑</td>\n",
       "      <td>3423</td>\n",
       "    </tr>\n",
       "    <tr>\n",
       "      <th>18952</th>\n",
       "      <td>20231231</td>\n",
       "      <td>중앙선</td>\n",
       "      <td>상봉(시외버스터미널)</td>\n",
       "      <td>3665</td>\n",
       "    </tr>\n",
       "    <tr>\n",
       "      <th>18953</th>\n",
       "      <td>20231231</td>\n",
       "      <td>중앙선</td>\n",
       "      <td>망우</td>\n",
       "      <td>5053</td>\n",
       "    </tr>\n",
       "    <tr>\n",
       "      <th>18954</th>\n",
       "      <td>20231231</td>\n",
       "      <td>중앙선</td>\n",
       "      <td>양원</td>\n",
       "      <td>1420</td>\n",
       "    </tr>\n",
       "    <tr>\n",
       "      <th>18955</th>\n",
       "      <td>20231231</td>\n",
       "      <td>중앙선</td>\n",
       "      <td>구리</td>\n",
       "      <td>7601</td>\n",
       "    </tr>\n",
       "  </tbody>\n",
       "</table>\n",
       "<p>18956 rows × 4 columns</p>\n",
       "</div>"
      ],
      "text/plain": [
       "           사용일자  노선명           역명  승차총승객수\n",
       "0      20231201  2호선     대림(구로구청)   25995\n",
       "1      20231201  2호선          신도림   55447\n",
       "2      20231201  2호선           문래   25818\n",
       "3      20231201  2호선        영등포구청   24517\n",
       "4      20231201  2호선           당산   20266\n",
       "...         ...  ...          ...     ...\n",
       "18951  20231231  중앙선           중랑    3423\n",
       "18952  20231231  중앙선  상봉(시외버스터미널)    3665\n",
       "18953  20231231  중앙선           망우    5053\n",
       "18954  20231231  중앙선           양원    1420\n",
       "18955  20231231  중앙선           구리    7601\n",
       "\n",
       "[18956 rows x 4 columns]"
      ]
     },
     "execution_count": 5,
     "metadata": {},
     "output_type": "execute_result"
    }
   ],
   "source": [
    "subwayDF = pd.read_csv(\n",
    "    file,\n",
    "    encoding=\"utf-8\",\n",
    "    skiprows=1,\n",
    "    header=None,\n",
    "    usecols=[i for i in range(6)],\n",
    "    names=title.replace(\"\\n\", \"\").replace('\"', \"\").split(\",\"),\n",
    ")\n",
    "subwayDF.drop([\"등록일자\", \"하차총승객수\"], axis=\"columns\", inplace=True)\n",
    "subwayDF\n"
   ]
  },
  {
   "cell_type": "code",
   "execution_count": 6,
   "metadata": {},
   "outputs": [
    {
     "name": "stdout",
     "output_type": "stream",
     "text": [
      "<class 'pandas.core.frame.DataFrame'>\n",
      "RangeIndex: 18956 entries, 0 to 18955\n",
      "Data columns (total 4 columns):\n",
      " #   Column  Non-Null Count  Dtype \n",
      "---  ------  --------------  ----- \n",
      " 0   사용일자    18956 non-null  int64 \n",
      " 1   노선명     18956 non-null  object\n",
      " 2   역명      18956 non-null  object\n",
      " 3   승차총승객수  18956 non-null  int64 \n",
      "dtypes: int64(2), object(2)\n",
      "memory usage: 592.5+ KB\n"
     ]
    }
   ],
   "source": [
    "subwayDF.info()\n"
   ]
  },
  {
   "cell_type": "code",
   "execution_count": 7,
   "metadata": {},
   "outputs": [
    {
     "data": {
      "text/html": [
       "<div>\n",
       "<style scoped>\n",
       "    .dataframe tbody tr th:only-of-type {\n",
       "        vertical-align: middle;\n",
       "    }\n",
       "\n",
       "    .dataframe tbody tr th {\n",
       "        vertical-align: top;\n",
       "    }\n",
       "\n",
       "    .dataframe thead th {\n",
       "        text-align: right;\n",
       "    }\n",
       "</style>\n",
       "<table border=\"1\" class=\"dataframe\">\n",
       "  <thead>\n",
       "    <tr style=\"text-align: right;\">\n",
       "      <th></th>\n",
       "      <th></th>\n",
       "      <th></th>\n",
       "      <th>승차총승객수</th>\n",
       "    </tr>\n",
       "    <tr>\n",
       "      <th>사용일자</th>\n",
       "      <th>노선명</th>\n",
       "      <th>역명</th>\n",
       "      <th></th>\n",
       "    </tr>\n",
       "  </thead>\n",
       "  <tbody>\n",
       "    <tr>\n",
       "      <th rowspan=\"5\" valign=\"top\">20231201</th>\n",
       "      <th rowspan=\"5\" valign=\"top\">2호선</th>\n",
       "      <th>대림(구로구청)</th>\n",
       "      <td>25995</td>\n",
       "    </tr>\n",
       "    <tr>\n",
       "      <th>신도림</th>\n",
       "      <td>55447</td>\n",
       "    </tr>\n",
       "    <tr>\n",
       "      <th>문래</th>\n",
       "      <td>25818</td>\n",
       "    </tr>\n",
       "    <tr>\n",
       "      <th>영등포구청</th>\n",
       "      <td>24517</td>\n",
       "    </tr>\n",
       "    <tr>\n",
       "      <th>당산</th>\n",
       "      <td>20266</td>\n",
       "    </tr>\n",
       "    <tr>\n",
       "      <th>...</th>\n",
       "      <th>...</th>\n",
       "      <th>...</th>\n",
       "      <td>...</td>\n",
       "    </tr>\n",
       "    <tr>\n",
       "      <th rowspan=\"5\" valign=\"top\">20231231</th>\n",
       "      <th rowspan=\"5\" valign=\"top\">중앙선</th>\n",
       "      <th>중랑</th>\n",
       "      <td>3423</td>\n",
       "    </tr>\n",
       "    <tr>\n",
       "      <th>상봉(시외버스터미널)</th>\n",
       "      <td>3665</td>\n",
       "    </tr>\n",
       "    <tr>\n",
       "      <th>망우</th>\n",
       "      <td>5053</td>\n",
       "    </tr>\n",
       "    <tr>\n",
       "      <th>양원</th>\n",
       "      <td>1420</td>\n",
       "    </tr>\n",
       "    <tr>\n",
       "      <th>구리</th>\n",
       "      <td>7601</td>\n",
       "    </tr>\n",
       "  </tbody>\n",
       "</table>\n",
       "<p>18956 rows × 1 columns</p>\n",
       "</div>"
      ],
      "text/plain": [
       "                          승차총승객수\n",
       "사용일자     노선명 역명                 \n",
       "20231201 2호선 대림(구로구청)      25995\n",
       "             신도림           55447\n",
       "             문래            25818\n",
       "             영등포구청         24517\n",
       "             당산            20266\n",
       "...                          ...\n",
       "20231231 중앙선 중랑             3423\n",
       "             상봉(시외버스터미널)    3665\n",
       "             망우             5053\n",
       "             양원             1420\n",
       "             구리             7601\n",
       "\n",
       "[18956 rows x 1 columns]"
      ]
     },
     "execution_count": 7,
     "metadata": {},
     "output_type": "execute_result"
    }
   ],
   "source": [
    "subwayDF.set_index([\"사용일자\", \"노선명\", \"역명\"], inplace=True)\n",
    "subwayDF\n"
   ]
  },
  {
   "cell_type": "markdown",
   "metadata": {},
   "source": [
    "1. 각 지하철 역별 평균 이용객 수\n"
   ]
  },
  {
   "cell_type": "code",
   "execution_count": 8,
   "metadata": {},
   "outputs": [
    {
     "data": {
      "text/html": [
       "<div>\n",
       "<style scoped>\n",
       "    .dataframe tbody tr th:only-of-type {\n",
       "        vertical-align: middle;\n",
       "    }\n",
       "\n",
       "    .dataframe tbody tr th {\n",
       "        vertical-align: top;\n",
       "    }\n",
       "\n",
       "    .dataframe thead th {\n",
       "        text-align: right;\n",
       "    }\n",
       "</style>\n",
       "<table border=\"1\" class=\"dataframe\">\n",
       "  <thead>\n",
       "    <tr style=\"text-align: right;\">\n",
       "      <th></th>\n",
       "      <th></th>\n",
       "      <th>평균이용객수</th>\n",
       "    </tr>\n",
       "    <tr>\n",
       "      <th>노선명</th>\n",
       "      <th>역명</th>\n",
       "      <th></th>\n",
       "    </tr>\n",
       "  </thead>\n",
       "  <tbody>\n",
       "    <tr>\n",
       "      <th rowspan=\"5\" valign=\"top\">1호선</th>\n",
       "      <th>동대문</th>\n",
       "      <td>11763</td>\n",
       "    </tr>\n",
       "    <tr>\n",
       "      <th>동묘앞</th>\n",
       "      <td>9386</td>\n",
       "    </tr>\n",
       "    <tr>\n",
       "      <th>서울역</th>\n",
       "      <td>53372</td>\n",
       "    </tr>\n",
       "    <tr>\n",
       "      <th>시청</th>\n",
       "      <td>25699</td>\n",
       "    </tr>\n",
       "    <tr>\n",
       "      <th>신설동</th>\n",
       "      <td>13216</td>\n",
       "    </tr>\n",
       "    <tr>\n",
       "      <th>...</th>\n",
       "      <th>...</th>\n",
       "      <td>...</td>\n",
       "    </tr>\n",
       "    <tr>\n",
       "      <th rowspan=\"5\" valign=\"top\">중앙선</th>\n",
       "      <th>원덕</th>\n",
       "      <td>336</td>\n",
       "    </tr>\n",
       "    <tr>\n",
       "      <th>중랑</th>\n",
       "      <td>5211</td>\n",
       "    </tr>\n",
       "    <tr>\n",
       "      <th>지평</th>\n",
       "      <td>49</td>\n",
       "    </tr>\n",
       "    <tr>\n",
       "      <th>팔당</th>\n",
       "      <td>822</td>\n",
       "    </tr>\n",
       "    <tr>\n",
       "      <th>회기</th>\n",
       "      <td>25898</td>\n",
       "    </tr>\n",
       "  </tbody>\n",
       "</table>\n",
       "<p>621 rows × 1 columns</p>\n",
       "</div>"
      ],
      "text/plain": [
       "         평균이용객수\n",
       "노선명 역명         \n",
       "1호선 동대문   11763\n",
       "    동묘앞    9386\n",
       "    서울역   53372\n",
       "    시청    25699\n",
       "    신설동   13216\n",
       "...         ...\n",
       "중앙선 원덕      336\n",
       "    중랑     5211\n",
       "    지평       49\n",
       "    팔당      822\n",
       "    회기    25898\n",
       "\n",
       "[621 rows x 1 columns]"
      ]
     },
     "execution_count": 8,
     "metadata": {},
     "output_type": "execute_result"
    }
   ],
   "source": [
    "subwayDF_mean = pd.DataFrame(subwayDF.groupby(level=[1, 2]).mean())\n",
    "subwayDF_mean.columns = [\"평균이용객수\"]\n",
    "subwayDF_mean = subwayDF_mean.round(0).astype(int)\n",
    "subwayDF_mean\n"
   ]
  },
  {
   "cell_type": "markdown",
   "metadata": {},
   "source": [
    "2. 각 지하철 역별 이용객 수의 표준편차\n"
   ]
  },
  {
   "cell_type": "code",
   "execution_count": 9,
   "metadata": {},
   "outputs": [
    {
     "data": {
      "text/html": [
       "<div>\n",
       "<style scoped>\n",
       "    .dataframe tbody tr th:only-of-type {\n",
       "        vertical-align: middle;\n",
       "    }\n",
       "\n",
       "    .dataframe tbody tr th {\n",
       "        vertical-align: top;\n",
       "    }\n",
       "\n",
       "    .dataframe thead th {\n",
       "        text-align: right;\n",
       "    }\n",
       "</style>\n",
       "<table border=\"1\" class=\"dataframe\">\n",
       "  <thead>\n",
       "    <tr style=\"text-align: right;\">\n",
       "      <th></th>\n",
       "      <th></th>\n",
       "      <th>이용객수표준편차</th>\n",
       "    </tr>\n",
       "    <tr>\n",
       "      <th>노선명</th>\n",
       "      <th>역명</th>\n",
       "      <th></th>\n",
       "    </tr>\n",
       "  </thead>\n",
       "  <tbody>\n",
       "    <tr>\n",
       "      <th rowspan=\"5\" valign=\"top\">1호선</th>\n",
       "      <th>동대문</th>\n",
       "      <td>707.707</td>\n",
       "    </tr>\n",
       "    <tr>\n",
       "      <th>동묘앞</th>\n",
       "      <td>2085.409</td>\n",
       "    </tr>\n",
       "    <tr>\n",
       "      <th>서울역</th>\n",
       "      <td>8241.707</td>\n",
       "    </tr>\n",
       "    <tr>\n",
       "      <th>시청</th>\n",
       "      <td>6561.060</td>\n",
       "    </tr>\n",
       "    <tr>\n",
       "      <th>신설동</th>\n",
       "      <td>2783.721</td>\n",
       "    </tr>\n",
       "    <tr>\n",
       "      <th>...</th>\n",
       "      <th>...</th>\n",
       "      <td>...</td>\n",
       "    </tr>\n",
       "    <tr>\n",
       "      <th rowspan=\"5\" valign=\"top\">중앙선</th>\n",
       "      <th>원덕</th>\n",
       "      <td>58.719</td>\n",
       "    </tr>\n",
       "    <tr>\n",
       "      <th>중랑</th>\n",
       "      <td>957.528</td>\n",
       "    </tr>\n",
       "    <tr>\n",
       "      <th>지평</th>\n",
       "      <td>9.418</td>\n",
       "    </tr>\n",
       "    <tr>\n",
       "      <th>팔당</th>\n",
       "      <td>111.720</td>\n",
       "    </tr>\n",
       "    <tr>\n",
       "      <th>회기</th>\n",
       "      <td>4541.136</td>\n",
       "    </tr>\n",
       "  </tbody>\n",
       "</table>\n",
       "<p>621 rows × 1 columns</p>\n",
       "</div>"
      ],
      "text/plain": [
       "         이용객수표준편차\n",
       "노선명 역명           \n",
       "1호선 동대문   707.707\n",
       "    동묘앞  2085.409\n",
       "    서울역  8241.707\n",
       "    시청   6561.060\n",
       "    신설동  2783.721\n",
       "...           ...\n",
       "중앙선 원덕     58.719\n",
       "    중랑    957.528\n",
       "    지평      9.418\n",
       "    팔당    111.720\n",
       "    회기   4541.136\n",
       "\n",
       "[621 rows x 1 columns]"
      ]
     },
     "execution_count": 9,
     "metadata": {},
     "output_type": "execute_result"
    }
   ],
   "source": [
    "subwayDF_std = pd.DataFrame(subwayDF.groupby(level=[1, 2]).std())\n",
    "subwayDF_std.columns = [\"이용객수표준편차\"]\n",
    "subwayDF_std = subwayDF_std.round(3)\n",
    "subwayDF_std\n"
   ]
  },
  {
   "cell_type": "code",
   "execution_count": 10,
   "metadata": {},
   "outputs": [
    {
     "data": {
      "text/html": [
       "<div>\n",
       "<style scoped>\n",
       "    .dataframe tbody tr th:only-of-type {\n",
       "        vertical-align: middle;\n",
       "    }\n",
       "\n",
       "    .dataframe tbody tr th {\n",
       "        vertical-align: top;\n",
       "    }\n",
       "\n",
       "    .dataframe thead th {\n",
       "        text-align: right;\n",
       "    }\n",
       "</style>\n",
       "<table border=\"1\" class=\"dataframe\">\n",
       "  <thead>\n",
       "    <tr style=\"text-align: right;\">\n",
       "      <th></th>\n",
       "      <th>평균이용객수</th>\n",
       "    </tr>\n",
       "    <tr>\n",
       "      <th>역명</th>\n",
       "      <th></th>\n",
       "    </tr>\n",
       "  </thead>\n",
       "  <tbody>\n",
       "    <tr>\n",
       "      <th>4.19민주묘지</th>\n",
       "      <td>3151</td>\n",
       "    </tr>\n",
       "    <tr>\n",
       "      <th>가능</th>\n",
       "      <td>6106</td>\n",
       "    </tr>\n",
       "    <tr>\n",
       "      <th>가락시장</th>\n",
       "      <td>17047</td>\n",
       "    </tr>\n",
       "    <tr>\n",
       "      <th>가산디지털단지</th>\n",
       "      <td>50685</td>\n",
       "    </tr>\n",
       "    <tr>\n",
       "      <th>가양</th>\n",
       "      <td>20731</td>\n",
       "    </tr>\n",
       "    <tr>\n",
       "      <th>...</th>\n",
       "      <td>...</td>\n",
       "    </tr>\n",
       "    <tr>\n",
       "      <th>회기</th>\n",
       "      <td>25898</td>\n",
       "    </tr>\n",
       "    <tr>\n",
       "      <th>회룡</th>\n",
       "      <td>12379</td>\n",
       "    </tr>\n",
       "    <tr>\n",
       "      <th>회현(남대문시장)</th>\n",
       "      <td>26721</td>\n",
       "    </tr>\n",
       "    <tr>\n",
       "      <th>효창공원앞</th>\n",
       "      <td>9928</td>\n",
       "    </tr>\n",
       "    <tr>\n",
       "      <th>흑석(중앙대입구)</th>\n",
       "      <td>8873</td>\n",
       "    </tr>\n",
       "  </tbody>\n",
       "</table>\n",
       "<p>529 rows × 1 columns</p>\n",
       "</div>"
      ],
      "text/plain": [
       "           평균이용객수\n",
       "역명               \n",
       "4.19민주묘지     3151\n",
       "가능           6106\n",
       "가락시장        17047\n",
       "가산디지털단지     50685\n",
       "가양          20731\n",
       "...           ...\n",
       "회기          25898\n",
       "회룡          12379\n",
       "회현(남대문시장)   26721\n",
       "효창공원앞        9928\n",
       "흑석(중앙대입구)    8873\n",
       "\n",
       "[529 rows x 1 columns]"
      ]
     },
     "execution_count": 10,
     "metadata": {},
     "output_type": "execute_result"
    }
   ],
   "source": [
    "subwayDF_station = pd.DataFrame(subwayDF_mean.groupby(level=[1]).sum())\n",
    "subwayDF_station\n"
   ]
  },
  {
   "cell_type": "markdown",
   "metadata": {},
   "source": [
    "3. 가장 많은 이용객이 있는 역의 이용객 수\n"
   ]
  },
  {
   "cell_type": "code",
   "execution_count": 11,
   "metadata": {},
   "outputs": [
    {
     "name": "stdout",
     "output_type": "stream",
     "text": [
      "103316명\n"
     ]
    }
   ],
   "source": [
    "print(f\"{subwayDF_station.max().values[0]}명\")\n"
   ]
  },
  {
   "cell_type": "markdown",
   "metadata": {},
   "source": [
    "4. 가장 적은 이용객이 있는 역의 이용객 수\n"
   ]
  },
  {
   "cell_type": "code",
   "execution_count": 12,
   "metadata": {},
   "outputs": [
    {
     "name": "stdout",
     "output_type": "stream",
     "text": [
      "1명\n"
     ]
    }
   ],
   "source": [
    "print(f\"{subwayDF_station.min().values[0]}명\")\n"
   ]
  },
  {
   "cell_type": "markdown",
   "metadata": {},
   "source": [
    "5. 이용객 수가 가장 많은 역의 이름\n"
   ]
  },
  {
   "cell_type": "code",
   "execution_count": 13,
   "metadata": {},
   "outputs": [
    {
     "name": "stdout",
     "output_type": "stream",
     "text": [
      "잠실(송파구청)\n"
     ]
    }
   ],
   "source": [
    "print(f\"{subwayDF_station.idxmax().values[0]}\")\n"
   ]
  },
  {
   "cell_type": "markdown",
   "metadata": {},
   "source": [
    "6. 이용객 수가 가장 적은 역의 이름\n"
   ]
  },
  {
   "cell_type": "code",
   "execution_count": 14,
   "metadata": {},
   "outputs": [
    {
     "name": "stdout",
     "output_type": "stream",
     "text": [
      "굴포천\n"
     ]
    }
   ],
   "source": [
    "print(f\"{subwayDF_station.idxmin().values[0]}\")\n"
   ]
  },
  {
   "cell_type": "markdown",
   "metadata": {},
   "source": [
    "7. 이용객 수의 분포를 히스토그램으로 시각화\n"
   ]
  },
  {
   "cell_type": "code",
   "execution_count": 15,
   "metadata": {},
   "outputs": [
    {
     "data": {
      "image/png": "[encoded data removed]",
      "text/plain": [
       "<Figure size 1400x800 with 1 Axes>"
      ]
     },
     "metadata": {},
     "output_type": "display_data"
    }
   ],
   "source": [
    "bin_num = 50\n",
    "plt.figure(figsize=(14, 8))\n",
    "ret = plt.hist(subwayDF_mean[\"평균이용객수\"], bins=bin_num)\n",
    "plt.xticks(np.linspace(0, ret[1].max(), bin_num + 1), rotation=300)\n",
    "plt.yticks(np.arange(0, ret[0].max() + 1, 10))\n",
    "plt.xlabel(\"이용객 수(명)\")\n",
    "plt.ylabel(\"역 개수(개)\")\n",
    "plt.title(\"이용객 수 분포\", fontsize=20)\n",
    "plt.grid(axis=\"y\", ls=\"--\")\n",
    "plt.show()\n"
   ]
  },
  {
   "cell_type": "code",
   "execution_count": null,
   "metadata": {},
   "outputs": [],
   "source": []
  }
 ],
 "metadata": {
  "kernelspec": {
   "display_name": "my39",
   "language": "python",
   "name": "python3"
  },
  "language_info": {
   "codemirror_mode": {
    "name": "ipython",
    "version": 3
   },
   "file_extension": ".py",
   "mimetype": "text/x-python",
   "name": "python",
   "nbconvert_exporter": "python",
   "pygments_lexer": "ipython3",
   "version": "3.9.18"
  }
 },
 "nbformat": 4,
 "nbformat_minor": 2
}
