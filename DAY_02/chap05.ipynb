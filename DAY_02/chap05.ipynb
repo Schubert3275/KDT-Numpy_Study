{
 "cells": [
  {
   "cell_type": "markdown",
   "metadata": {},
   "source": [
    "# 이산형 확률분포\n"
   ]
  },
  {
   "cell_type": "markdown",
   "metadata": {},
   "source": [
    "## 1차원 이산형 확률분포\n"
   ]
  },
  {
   "cell_type": "code",
   "execution_count": 1,
   "metadata": {
    "ExecuteTime": {
     "end_time": "2018-08-07T04:43:23.771523Z",
     "start_time": "2018-08-07T04:43:23.575758Z"
    }
   },
   "outputs": [],
   "source": [
    "import numpy as np\n",
    "import matplotlib.pyplot as plt\n",
    "\n",
    "%precision 3\n",
    "%matplotlib inline\n"
   ]
  },
  {
   "cell_type": "markdown",
   "metadata": {},
   "source": [
    "### 1차원 이산확률분포의 정의\n"
   ]
  },
  {
   "cell_type": "code",
   "execution_count": 2,
   "metadata": {
    "ExecuteTime": {
     "end_time": "2018-08-07T04:43:23.775156Z",
     "start_time": "2018-08-07T04:43:23.772847Z"
    }
   },
   "outputs": [],
   "source": [
    "x_set = np.array([1, 2, 3, 4, 5, 6])\n"
   ]
  },
  {
   "cell_type": "code",
   "execution_count": 3,
   "metadata": {
    "ExecuteTime": {
     "end_time": "2018-08-07T04:43:23.779344Z",
     "start_time": "2018-08-07T04:43:23.776685Z"
    }
   },
   "outputs": [],
   "source": [
    "def f(x):\n",
    "    if x in x_set:\n",
    "        return x / 21\n",
    "    else:\n",
    "        return 0\n"
   ]
  },
  {
   "cell_type": "code",
   "execution_count": 4,
   "metadata": {
    "ExecuteTime": {
     "end_time": "2018-08-07T04:43:23.783380Z",
     "start_time": "2018-08-07T04:43:23.780556Z"
    }
   },
   "outputs": [],
   "source": [
    "X = [x_set, f]\n"
   ]
  },
  {
   "cell_type": "code",
   "execution_count": 5,
   "metadata": {
    "ExecuteTime": {
     "end_time": "2018-08-07T04:43:23.795835Z",
     "start_time": "2018-08-07T04:43:23.784515Z"
    }
   },
   "outputs": [
    {
     "data": {
      "text/plain": [
       "{1: 0.048, 2: 0.095, 3: 0.143, 4: 0.190, 5: 0.238, 6: 0.286}"
      ]
     },
     "execution_count": 5,
     "metadata": {},
     "output_type": "execute_result"
    }
   ],
   "source": [
    "# 확률 p_k를 구한다\n",
    "prob = np.array([f(x_k) for x_k in x_set])\n",
    "# x_k와 p_k의 대응을 사전식으로 표시\n",
    "dict(zip(x_set, prob))\n"
   ]
  },
  {
   "cell_type": "code",
   "execution_count": 6,
   "metadata": {
    "ExecuteTime": {
     "end_time": "2018-08-07T04:43:23.911086Z",
     "start_time": "2018-08-07T04:43:23.796855Z"
    }
   },
   "outputs": [
    {
     "data": {
      "image/png": "[encoded data removed]",
      "text/plain": [
       "<Figure size 1000x600 with 1 Axes>"
      ]
     },
     "metadata": {},
     "output_type": "display_data"
    }
   ],
   "source": [
    "fig = plt.figure(figsize=(10, 6))\n",
    "ax = fig.add_subplot(111)\n",
    "ax.bar(x_set, prob)\n",
    "ax.set_xlabel(\"value\")\n",
    "ax.set_ylabel(\"probability\")\n",
    "\n",
    "plt.show()\n"
   ]
  },
  {
   "cell_type": "code",
   "execution_count": 7,
   "metadata": {
    "ExecuteTime": {
     "end_time": "2018-08-07T04:43:23.915961Z",
     "start_time": "2018-08-07T04:43:23.912531Z"
    }
   },
   "outputs": [
    {
     "data": {
      "text/plain": [
       "True"
      ]
     },
     "execution_count": 7,
     "metadata": {},
     "output_type": "execute_result"
    }
   ],
   "source": [
    "np.all(prob >= 0)\n"
   ]
  },
  {
   "cell_type": "code",
   "execution_count": 8,
   "metadata": {
    "ExecuteTime": {
     "end_time": "2018-08-07T04:43:23.920725Z",
     "start_time": "2018-08-07T04:43:23.917448Z"
    }
   },
   "outputs": [
    {
     "data": {
      "text/plain": [
       "1.000"
      ]
     },
     "execution_count": 8,
     "metadata": {},
     "output_type": "execute_result"
    }
   ],
   "source": [
    "np.sum(prob)\n"
   ]
  },
  {
   "cell_type": "code",
   "execution_count": 9,
   "metadata": {
    "ExecuteTime": {
     "end_time": "2018-08-07T04:43:23.924982Z",
     "start_time": "2018-08-07T04:43:23.922208Z"
    }
   },
   "outputs": [],
   "source": [
    "def F(x):\n",
    "    return np.sum([f(x_k) for x_k in x_set if x_k <= x])\n"
   ]
  },
  {
   "cell_type": "code",
   "execution_count": 10,
   "metadata": {
    "ExecuteTime": {
     "end_time": "2018-08-07T04:43:23.935804Z",
     "start_time": "2018-08-07T04:43:23.926354Z"
    }
   },
   "outputs": [
    {
     "data": {
      "text/plain": [
       "0.286"
      ]
     },
     "execution_count": 10,
     "metadata": {},
     "output_type": "execute_result"
    }
   ],
   "source": [
    "F(3)\n"
   ]
  },
  {
   "cell_type": "code",
   "execution_count": 11,
   "metadata": {
    "ExecuteTime": {
     "end_time": "2018-08-06T11:25:17.697148Z",
     "start_time": "2018-08-06T11:25:17.692368Z"
    }
   },
   "outputs": [
    {
     "data": {
      "text/plain": [
       "{5: 0.048, 7: 0.095, 9: 0.143, 11: 0.190, 13: 0.238, 15: 0.286}"
      ]
     },
     "execution_count": 11,
     "metadata": {},
     "output_type": "execute_result"
    }
   ],
   "source": [
    "y_set = np.array([2 * x_k + 3 for x_k in x_set])\n",
    "prob = np.array([f(x_k) for x_k in x_set])\n",
    "dict(zip(y_set, prob))\n"
   ]
  },
  {
   "cell_type": "markdown",
   "metadata": {},
   "source": [
    "### 1차원 이산형 확률변수의 지표\n"
   ]
  },
  {
   "cell_type": "markdown",
   "metadata": {},
   "source": [
    "#### 평균\n"
   ]
  },
  {
   "cell_type": "code",
   "execution_count": 12,
   "metadata": {
    "ExecuteTime": {
     "end_time": "2018-08-06T11:25:17.701479Z",
     "start_time": "2018-08-06T11:25:17.698316Z"
    }
   },
   "outputs": [
    {
     "data": {
      "text/plain": [
       "4.333"
      ]
     },
     "execution_count": 12,
     "metadata": {},
     "output_type": "execute_result"
    }
   ],
   "source": [
    "np.sum([x_k * f(x_k) for x_k in x_set])\n"
   ]
  },
  {
   "cell_type": "code",
   "execution_count": 13,
   "metadata": {
    "ExecuteTime": {
     "end_time": "2018-08-06T11:25:17.737094Z",
     "start_time": "2018-08-06T11:25:17.702621Z"
    }
   },
   "outputs": [
    {
     "data": {
      "text/plain": [
       "4.334"
      ]
     },
     "execution_count": 13,
     "metadata": {},
     "output_type": "execute_result"
    }
   ],
   "source": [
    "sample = np.random.choice(x_set, int(1e6), p=prob)\n",
    "np.mean(sample)\n"
   ]
  },
  {
   "cell_type": "code",
   "execution_count": 14,
   "metadata": {
    "ExecuteTime": {
     "end_time": "2018-08-06T11:25:17.740722Z",
     "start_time": "2018-08-06T11:25:17.738306Z"
    }
   },
   "outputs": [],
   "source": [
    "def E(X, g=lambda x: x):\n",
    "    x_set, f = X\n",
    "    return np.sum([g(x_k) * f(x_k) for x_k in x_set])\n"
   ]
  },
  {
   "cell_type": "code",
   "execution_count": 15,
   "metadata": {
    "ExecuteTime": {
     "end_time": "2018-08-06T11:25:17.745675Z",
     "start_time": "2018-08-06T11:25:17.741807Z"
    }
   },
   "outputs": [
    {
     "data": {
      "text/plain": [
       "4.333"
      ]
     },
     "execution_count": 15,
     "metadata": {},
     "output_type": "execute_result"
    }
   ],
   "source": [
    "E(X)\n"
   ]
  },
  {
   "cell_type": "code",
   "execution_count": 16,
   "metadata": {
    "ExecuteTime": {
     "end_time": "2018-08-06T11:25:17.750269Z",
     "start_time": "2018-08-06T11:25:17.746911Z"
    }
   },
   "outputs": [
    {
     "data": {
      "text/plain": [
       "11.667"
      ]
     },
     "execution_count": 16,
     "metadata": {},
     "output_type": "execute_result"
    }
   ],
   "source": [
    "E(X, g=lambda x: 2 * x + 3)\n"
   ]
  },
  {
   "cell_type": "code",
   "execution_count": 17,
   "metadata": {
    "ExecuteTime": {
     "end_time": "2018-08-06T11:25:17.754447Z",
     "start_time": "2018-08-06T11:25:17.751181Z"
    }
   },
   "outputs": [
    {
     "data": {
      "text/plain": [
       "11.667"
      ]
     },
     "execution_count": 17,
     "metadata": {},
     "output_type": "execute_result"
    }
   ],
   "source": [
    "2 * E(X) + 3\n"
   ]
  },
  {
   "cell_type": "markdown",
   "metadata": {},
   "source": [
    "#### 분산\n"
   ]
  },
  {
   "cell_type": "code",
   "execution_count": 18,
   "metadata": {
    "ExecuteTime": {
     "end_time": "2018-08-06T11:25:17.759274Z",
     "start_time": "2018-08-06T11:25:17.755396Z"
    }
   },
   "outputs": [
    {
     "data": {
      "text/plain": [
       "2.222"
      ]
     },
     "execution_count": 18,
     "metadata": {},
     "output_type": "execute_result"
    }
   ],
   "source": [
    "mean = E(X)\n",
    "np.sum([(x_k - mean) ** 2 * f(x_k) for x_k in x_set])\n"
   ]
  },
  {
   "cell_type": "code",
   "execution_count": 19,
   "metadata": {
    "ExecuteTime": {
     "end_time": "2018-08-06T11:25:17.763465Z",
     "start_time": "2018-08-06T11:25:17.760361Z"
    }
   },
   "outputs": [],
   "source": [
    "def V(X, g=lambda x: x):\n",
    "    x_set, f = X\n",
    "    mean = E(X, g)\n",
    "    return np.sum([(g(x_k) - mean) ** 2 * f(x_k) for x_k in x_set])\n"
   ]
  },
  {
   "cell_type": "code",
   "execution_count": 20,
   "metadata": {
    "ExecuteTime": {
     "end_time": "2018-08-06T11:25:17.768386Z",
     "start_time": "2018-08-06T11:25:17.764699Z"
    }
   },
   "outputs": [
    {
     "data": {
      "text/plain": [
       "2.222"
      ]
     },
     "execution_count": 20,
     "metadata": {},
     "output_type": "execute_result"
    }
   ],
   "source": [
    "V(X)\n"
   ]
  },
  {
   "cell_type": "code",
   "execution_count": 21,
   "metadata": {
    "ExecuteTime": {
     "end_time": "2018-08-06T11:25:17.773328Z",
     "start_time": "2018-08-06T11:25:17.769350Z"
    }
   },
   "outputs": [
    {
     "data": {
      "text/plain": [
       "8.889"
      ]
     },
     "execution_count": 21,
     "metadata": {},
     "output_type": "execute_result"
    }
   ],
   "source": [
    "V(X, lambda x: 2 * x + 3)\n"
   ]
  },
  {
   "cell_type": "code",
   "execution_count": 22,
   "metadata": {
    "ExecuteTime": {
     "end_time": "2018-08-06T11:25:17.778674Z",
     "start_time": "2018-08-06T11:25:17.774588Z"
    }
   },
   "outputs": [
    {
     "data": {
      "text/plain": [
       "8.889"
      ]
     },
     "execution_count": 22,
     "metadata": {},
     "output_type": "execute_result"
    }
   ],
   "source": [
    "2**2 * V(X)\n"
   ]
  },
  {
   "cell_type": "markdown",
   "metadata": {},
   "source": [
    "## 2차원 이산형 확률분포\n"
   ]
  },
  {
   "cell_type": "markdown",
   "metadata": {},
   "source": [
    "### 2차원 이산형 확률분포의 정의\n"
   ]
  },
  {
   "cell_type": "code",
   "execution_count": 23,
   "metadata": {
    "ExecuteTime": {
     "end_time": "2018-08-06T11:25:17.783029Z",
     "start_time": "2018-08-06T11:25:17.780291Z"
    }
   },
   "outputs": [],
   "source": [
    "x_set = np.arange(2, 13)\n",
    "y_set = np.arange(1, 7)\n"
   ]
  },
  {
   "cell_type": "code",
   "execution_count": 24,
   "metadata": {
    "ExecuteTime": {
     "end_time": "2018-08-06T11:25:17.788516Z",
     "start_time": "2018-08-06T11:25:17.784611Z"
    }
   },
   "outputs": [],
   "source": [
    "def f_XY(x, y):\n",
    "    if 1 <= y <= 6 and 1 <= x - y <= 6:\n",
    "        return y * (x - y) / 441\n",
    "    else:\n",
    "        return 0\n"
   ]
  },
  {
   "cell_type": "code",
   "execution_count": 25,
   "metadata": {
    "ExecuteTime": {
     "end_time": "2018-08-06T11:25:17.793487Z",
     "start_time": "2018-08-06T11:25:17.789901Z"
    }
   },
   "outputs": [],
   "source": [
    "XY = [x_set, y_set, f_XY]\n"
   ]
  },
  {
   "cell_type": "code",
   "execution_count": 26,
   "metadata": {
    "ExecuteTime": {
     "end_time": "2018-08-06T11:25:17.932737Z",
     "start_time": "2018-08-06T11:25:17.794592Z"
    },
    "scrolled": false
   },
   "outputs": [
    {
     "data": {
      "image/png": "[encoded data removed]",
      "text/plain": [
       "<Figure size 1000x800 with 2 Axes>"
      ]
     },
     "metadata": {},
     "output_type": "display_data"
    }
   ],
   "source": [
    "prob = np.array([[f_XY(x_i, y_j) for y_j in y_set] for x_i in x_set])\n",
    "\n",
    "fig = plt.figure(figsize=(10, 8))\n",
    "ax = fig.add_subplot(111)\n",
    "\n",
    "c = ax.pcolor(prob)\n",
    "ax.set_xticks(np.arange(prob.shape[1]) + 0.5, minor=False)\n",
    "ax.set_yticks(np.arange(prob.shape[0]) + 0.5, minor=False)\n",
    "ax.set_xticklabels(np.arange(1, 7), minor=False)\n",
    "ax.set_yticklabels(np.arange(2, 13), minor=False)\n",
    "# y축을 내림차순의 숫자가 되게 하여, 위 아래를 역전시킨다\n",
    "ax.invert_yaxis()\n",
    "# x축의 눈금을 그래프 위쪽에 표시\n",
    "ax.xaxis.tick_top()\n",
    "fig.colorbar(c, ax=ax)\n",
    "plt.show()\n"
   ]
  },
  {
   "cell_type": "code",
   "execution_count": 27,
   "metadata": {
    "ExecuteTime": {
     "end_time": "2018-08-06T11:25:17.937185Z",
     "start_time": "2018-08-06T11:25:17.934188Z"
    }
   },
   "outputs": [
    {
     "data": {
      "text/plain": [
       "True"
      ]
     },
     "execution_count": 27,
     "metadata": {},
     "output_type": "execute_result"
    }
   ],
   "source": [
    "np.all(prob >= 0)\n"
   ]
  },
  {
   "cell_type": "code",
   "execution_count": 28,
   "metadata": {
    "ExecuteTime": {
     "end_time": "2018-08-06T11:25:17.942400Z",
     "start_time": "2018-08-06T11:25:17.938424Z"
    }
   },
   "outputs": [
    {
     "data": {
      "text/plain": [
       "1.000"
      ]
     },
     "execution_count": 28,
     "metadata": {},
     "output_type": "execute_result"
    }
   ],
   "source": [
    "np.sum(prob)\n"
   ]
  },
  {
   "cell_type": "code",
   "execution_count": 29,
   "metadata": {
    "ExecuteTime": {
     "end_time": "2018-08-06T11:25:17.948437Z",
     "start_time": "2018-08-06T11:25:17.943951Z"
    }
   },
   "outputs": [],
   "source": [
    "def f_X(x):\n",
    "    return np.sum([f_XY(x, y_k) for y_k in y_set])\n"
   ]
  },
  {
   "cell_type": "code",
   "execution_count": 30,
   "metadata": {
    "ExecuteTime": {
     "end_time": "2018-08-06T11:25:17.953066Z",
     "start_time": "2018-08-06T11:25:17.949777Z"
    }
   },
   "outputs": [],
   "source": [
    "def f_Y(y):\n",
    "    return np.sum([f_XY(x_k, y) for x_k in x_set])\n"
   ]
  },
  {
   "cell_type": "code",
   "execution_count": 31,
   "metadata": {
    "ExecuteTime": {
     "end_time": "2018-08-06T11:25:17.957088Z",
     "start_time": "2018-08-06T11:25:17.954497Z"
    }
   },
   "outputs": [],
   "source": [
    "X = [x_set, f_X]\n",
    "Y = [y_set, f_Y]\n"
   ]
  },
  {
   "cell_type": "code",
   "execution_count": 32,
   "metadata": {
    "ExecuteTime": {
     "end_time": "2018-08-06T11:25:18.155840Z",
     "start_time": "2018-08-06T11:25:17.958366Z"
    }
   },
   "outputs": [
    {
     "data": {
      "image/png": "[encoded data removed]",
      "text/plain": [
       "<Figure size 1200x400 with 2 Axes>"
      ]
     },
     "metadata": {},
     "output_type": "display_data"
    }
   ],
   "source": [
    "prob_x = np.array([f_X(x_k) for x_k in x_set])\n",
    "prob_y = np.array([f_Y(y_k) for y_k in y_set])\n",
    "\n",
    "fig = plt.figure(figsize=(12, 4))\n",
    "ax1 = fig.add_subplot(121)\n",
    "ax2 = fig.add_subplot(122)\n",
    "\n",
    "ax1.bar(x_set, prob_x)\n",
    "ax1.set_title(\"X_marginal probability distribution\")\n",
    "ax1.set_xlabel(\"X_value\")\n",
    "ax1.set_ylabel(\"probability\")\n",
    "ax1.set_xticks(x_set)\n",
    "\n",
    "ax2.bar(y_set, prob_y)\n",
    "ax2.set_title(\"Y_marginal probability distribution\")\n",
    "ax2.set_xlabel(\"Y_value\")\n",
    "ax2.set_ylabel(\"probability\")\n",
    "\n",
    "plt.show()\n"
   ]
  },
  {
   "cell_type": "markdown",
   "metadata": {},
   "source": [
    "### 2차원 이산형 확률분포의 지표\n"
   ]
  },
  {
   "cell_type": "code",
   "execution_count": 33,
   "metadata": {
    "ExecuteTime": {
     "end_time": "2018-08-06T11:25:18.160597Z",
     "start_time": "2018-08-06T11:25:18.157222Z"
    }
   },
   "outputs": [
    {
     "data": {
      "text/plain": [
       "8.667"
      ]
     },
     "execution_count": 33,
     "metadata": {},
     "output_type": "execute_result"
    }
   ],
   "source": [
    "np.sum([x_i * f_XY(x_i, y_j) for x_i in x_set for y_j in y_set])\n"
   ]
  },
  {
   "cell_type": "code",
   "execution_count": 34,
   "metadata": {
    "ExecuteTime": {
     "end_time": "2018-08-06T11:25:18.165682Z",
     "start_time": "2018-08-06T11:25:18.161951Z"
    }
   },
   "outputs": [],
   "source": [
    "def E(XY, g):\n",
    "    x_set, y_set, f_XY = XY\n",
    "    return np.sum([g(x_i, y_j) * f_XY(x_i, y_j) for x_i in x_set for y_j in y_set])\n"
   ]
  },
  {
   "cell_type": "code",
   "execution_count": 35,
   "metadata": {
    "ExecuteTime": {
     "end_time": "2018-08-06T11:25:18.171317Z",
     "start_time": "2018-08-06T11:25:18.166922Z"
    }
   },
   "outputs": [
    {
     "data": {
      "text/plain": [
       "8.667"
      ]
     },
     "execution_count": 35,
     "metadata": {},
     "output_type": "execute_result"
    }
   ],
   "source": [
    "mean_X = E(XY, lambda x, y: x)\n",
    "mean_X\n"
   ]
  },
  {
   "cell_type": "code",
   "execution_count": 36,
   "metadata": {
    "ExecuteTime": {
     "end_time": "2018-08-06T11:25:18.176800Z",
     "start_time": "2018-08-06T11:25:18.172606Z"
    }
   },
   "outputs": [
    {
     "data": {
      "text/plain": [
       "4.333"
      ]
     },
     "execution_count": 36,
     "metadata": {},
     "output_type": "execute_result"
    }
   ],
   "source": [
    "mean_Y = E(XY, lambda x, y: y)\n",
    "mean_Y\n"
   ]
  },
  {
   "cell_type": "code",
   "execution_count": 37,
   "metadata": {
    "ExecuteTime": {
     "end_time": "2018-08-06T11:25:18.181411Z",
     "start_time": "2018-08-06T11:25:18.179270Z"
    }
   },
   "outputs": [],
   "source": [
    "a, b = 2, 3\n"
   ]
  },
  {
   "cell_type": "code",
   "execution_count": 38,
   "metadata": {
    "ExecuteTime": {
     "end_time": "2018-08-06T11:25:18.188112Z",
     "start_time": "2018-08-06T11:25:18.182684Z"
    }
   },
   "outputs": [
    {
     "data": {
      "text/plain": [
       "30.333"
      ]
     },
     "execution_count": 38,
     "metadata": {},
     "output_type": "execute_result"
    }
   ],
   "source": [
    "E(XY, lambda x, y: a * x + b * y)\n"
   ]
  },
  {
   "cell_type": "code",
   "execution_count": 39,
   "metadata": {
    "ExecuteTime": {
     "end_time": "2018-08-06T11:25:18.192651Z",
     "start_time": "2018-08-06T11:25:18.189335Z"
    }
   },
   "outputs": [
    {
     "data": {
      "text/plain": [
       "30.333"
      ]
     },
     "execution_count": 39,
     "metadata": {},
     "output_type": "execute_result"
    }
   ],
   "source": [
    "a * mean_X + b * mean_Y\n"
   ]
  },
  {
   "cell_type": "code",
   "execution_count": 40,
   "metadata": {
    "ExecuteTime": {
     "end_time": "2018-08-06T11:25:18.198072Z",
     "start_time": "2018-08-06T11:25:18.193879Z"
    }
   },
   "outputs": [
    {
     "data": {
      "text/plain": [
       "4.444"
      ]
     },
     "execution_count": 40,
     "metadata": {},
     "output_type": "execute_result"
    }
   ],
   "source": [
    "np.sum([(x_i - mean_X) ** 2 * f_XY(x_i, y_j) for x_i in x_set for y_j in y_set])\n"
   ]
  },
  {
   "cell_type": "code",
   "execution_count": 41,
   "metadata": {
    "ExecuteTime": {
     "end_time": "2018-08-06T11:25:18.202487Z",
     "start_time": "2018-08-06T11:25:18.199151Z"
    }
   },
   "outputs": [],
   "source": [
    "def V(XY, g):\n",
    "    x_set, y_set, f_XY = XY\n",
    "    mean = E(XY, g)\n",
    "    return np.sum(\n",
    "        [(g(x_i, y_j) - mean) ** 2 * f_XY(x_i, y_j) for x_i in x_set for y_j in y_set]\n",
    "    )\n"
   ]
  },
  {
   "cell_type": "code",
   "execution_count": 42,
   "metadata": {
    "ExecuteTime": {
     "end_time": "2018-08-06T11:25:18.208121Z",
     "start_time": "2018-08-06T11:25:18.203578Z"
    }
   },
   "outputs": [
    {
     "data": {
      "text/plain": [
       "4.444"
      ]
     },
     "execution_count": 42,
     "metadata": {},
     "output_type": "execute_result"
    }
   ],
   "source": [
    "var_X = V(XY, g=lambda x, y: x)\n",
    "var_X\n"
   ]
  },
  {
   "cell_type": "code",
   "execution_count": 43,
   "metadata": {
    "ExecuteTime": {
     "end_time": "2018-08-06T11:25:18.214829Z",
     "start_time": "2018-08-06T11:25:18.209153Z"
    }
   },
   "outputs": [
    {
     "data": {
      "text/plain": [
       "2.222"
      ]
     },
     "execution_count": 43,
     "metadata": {},
     "output_type": "execute_result"
    }
   ],
   "source": [
    "var_Y = V(XY, g=lambda x, y: y)\n",
    "var_Y\n"
   ]
  },
  {
   "cell_type": "code",
   "execution_count": 44,
   "metadata": {
    "ExecuteTime": {
     "end_time": "2018-08-06T11:25:18.220141Z",
     "start_time": "2018-08-06T11:25:18.215853Z"
    }
   },
   "outputs": [],
   "source": [
    "def Cov(XY):\n",
    "    x_set, y_set, f_XY = XY\n",
    "    mean_X = E(XY, lambda x, y: x)\n",
    "    mean_Y = E(XY, lambda x, y: y)\n",
    "    return np.sum(\n",
    "        [\n",
    "            (x_i - mean_X) * (y_j - mean_Y) * f_XY(x_i, y_j)\n",
    "            for x_i in x_set\n",
    "            for y_j in y_set\n",
    "        ]\n",
    "    )\n"
   ]
  },
  {
   "cell_type": "code",
   "execution_count": 45,
   "metadata": {
    "ExecuteTime": {
     "end_time": "2018-08-06T11:25:18.226352Z",
     "start_time": "2018-08-06T11:25:18.221226Z"
    }
   },
   "outputs": [
    {
     "data": {
      "text/plain": [
       "2.222"
      ]
     },
     "execution_count": 45,
     "metadata": {},
     "output_type": "execute_result"
    }
   ],
   "source": [
    "cov_xy = Cov(XY)\n",
    "cov_xy\n"
   ]
  },
  {
   "cell_type": "code",
   "execution_count": 46,
   "metadata": {
    "ExecuteTime": {
     "end_time": "2018-08-06T11:25:18.232830Z",
     "start_time": "2018-08-06T11:25:18.227964Z"
    }
   },
   "outputs": [
    {
     "data": {
      "text/plain": [
       "64.444"
      ]
     },
     "execution_count": 46,
     "metadata": {},
     "output_type": "execute_result"
    }
   ],
   "source": [
    "V(XY, lambda x, y: a * x + b * y)\n"
   ]
  },
  {
   "cell_type": "code",
   "execution_count": 47,
   "metadata": {
    "ExecuteTime": {
     "end_time": "2018-08-06T11:25:18.238309Z",
     "start_time": "2018-08-06T11:25:18.234241Z"
    }
   },
   "outputs": [
    {
     "data": {
      "text/plain": [
       "64.444"
      ]
     },
     "execution_count": 47,
     "metadata": {},
     "output_type": "execute_result"
    }
   ],
   "source": [
    "a**2 * var_X + b**2 * var_Y + 2 * a * b * cov_xy\n"
   ]
  },
  {
   "cell_type": "code",
   "execution_count": 48,
   "metadata": {
    "ExecuteTime": {
     "end_time": "2018-08-06T11:25:18.243046Z",
     "start_time": "2018-08-06T11:25:18.239669Z"
    }
   },
   "outputs": [
    {
     "data": {
      "text/plain": [
       "0.707"
      ]
     },
     "execution_count": 48,
     "metadata": {},
     "output_type": "execute_result"
    }
   ],
   "source": [
    "cov_xy / np.sqrt(var_X * var_Y)\n"
   ]
  },
  {
   "cell_type": "code",
   "execution_count": null,
   "metadata": {},
   "outputs": [],
   "source": []
  }
 ],
 "metadata": {
  "kernelspec": {
   "display_name": "Python 3",
   "language": "python",
   "name": "python3"
  },
  "language_info": {
   "codemirror_mode": {
    "name": "ipython",
    "version": 3
   },
   "file_extension": ".py",
   "mimetype": "text/x-python",
   "name": "python",
   "nbconvert_exporter": "python",
   "pygments_lexer": "ipython3",
   "version": "3.9.18"
  },
  "toc": {
   "nav_menu": {},
   "number_sections": true,
   "sideBar": true,
   "skip_h1_title": false,
   "toc_cell": false,
   "toc_position": {
    "height": "911px",
    "left": "0px",
    "right": "1493px",
    "top": "107px",
    "width": "212px"
   },
   "toc_section_display": "block",
   "toc_window_display": false
  }
 },
 "nbformat": 4,
 "nbformat_minor": 2
}
